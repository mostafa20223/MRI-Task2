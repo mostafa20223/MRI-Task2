{
 "cells": [
  {
   "cell_type": "markdown",
   "metadata": {
    "collapsed": false
   },
   "source": [
    "# Importing Libraries"
   ]
  },
  {
   "cell_type": "code",
   "execution_count": 0,
   "metadata": {
    "collapsed": false
   },
   "outputs": [
   ],
   "source": [
    "%matplotlib notebook\n",
    "%matplotlib inline\n",
    "import scipy.constants as c # For physical and math constants\n",
    "import math as mt # For math library\n",
    "import numpy as np\n",
    "from numpy.fft import fftshift, ifftshift, fftn, ifftn\n",
    "import matplotlib.pyplot as plt\n",
    "from mpl_toolkits.mplot3d import Axes3D \n",
    "from matplotlib import style\n",
    "from PIL import Image\n",
    "from sympy import *\n",
    "from qutip import *\n",
    "from pylab import *\n",
    "import cv2 as cv"
   ]
  },
  {
   "cell_type": "markdown",
   "metadata": {
    "collapsed": false
   },
   "source": [
    "# Number1\n",
    "    Creates the k-space for phantom image."
   ]
  },
  {
   "cell_type": "code",
   "execution_count": 0,
   "metadata": {
    "collapsed": false
   },
   "outputs": [
   ],
   "source": [
    "fname = 'phantom.jpg'\n",
    "img = cv.imread(fname, 0)\n",
    "dim = range(img.ndim)\n",
    "print(dim)\n",
    "k = np.abs(np.fft.fftshift(np.fft.fft2(img)))\n",
    "k = 20 * np.log(k)\n",
    "result = np.array(k, dtype = float)\n",
    "f = plt.figure()\n",
    "f.add_subplot(1, 2, 1)\n",
    "plt.imshow(img, cmap = 'gray')\n",
    "f.add_subplot(1, 2, 2)\n",
    "plt.imshow(result, cmap = 'gray')\n",
    "plt.show(block = True)"
   ]
  },
  {
   "cell_type": "markdown",
   "metadata": {
    "collapsed": false
   },
   "source": [
    "# Number2\n",
    "    Creates the function that shows differences in angular frequency and the trajectory in both z-plane and x-y plane."
   ]
  },
  {
   "cell_type": "code",
   "execution_count": 0,
   "metadata": {
    "collapsed": false
   },
   "outputs": [
   ],
   "source": [
    "# Get the value of magnetic moment vector\n",
    "def Get_Mag(Geo, Spin_QNum):\n",
    "    Angr_Momentum = c.hbar * mt.sqrt(Spin_QNum * (Spin_QNum + 1))\n",
    "    MgMoment = Geo * Angr_Momentum\n",
    "    return MgMoment\n",
    "\n",
    "# Return the value of bulk magnetization vector\n",
    "def Bulk(Spin_Num):\n",
    "    bulk_vec = 0\n",
    "    i = 1\n",
    "    while i <= Spin_Num:\n",
    "        bulk_vec = i * Get_Mag(42.0, 0.5)\n",
    "        i += 1\n",
    "    return bulk_vec * mt.exp(71)\n",
    "\n",
    "Mxy = []\n",
    "Mz = []\n",
    "t1 = []\n",
    "t2 = []\n",
    "N = 5\n",
    "B_nonuniform = (np.random.randint(285, 315, size = 5)) / 100\n",
    "\n",
    "# Get the bloch equation\n",
    "def Get_Bloch(Magnetic_Field, RecTime, DecTime):\n",
    "    for j in range(0, 31):\n",
    "        t1.append(j)\n",
    "    for k in range(0, 9):\n",
    "        t2.append(k)\n",
    "    i = 0\n",
    "    while i <= len(t1) - 1:\n",
    "        Longatudinal_Plane = Magnetic_Field * (1 - mt.exp((t1[i] * -1) / RecTime))\n",
    "        Mz.append(Longatudinal_Plane)\n",
    "        i += 1\n",
    "    l = 0\n",
    "    while l <= len(t2) - 1:\n",
    "        Transverse_Plane = Magnetic_Field * mt.exp((t2[l] * -1) / DecTime)\n",
    "        Mxy.append(Transverse_Plane)\n",
    "        l += 1\n",
    "    return Mz, Mxy\n",
    "\n",
    "Get_Mag(42.6, 0.5); # For Hydrogen\n",
    "Bulk(50); # Number of spins of hydrogen\n",
    "Get_Bloch(B_nonuniform, 10.4, 1.06); # Bloch Equation (T1 and T2: CSF Material) # Avg"
   ]
  },
  {
   "cell_type": "code",
   "execution_count": 0,
   "metadata": {
    "collapsed": false
   },
   "outputs": [
   ],
   "source": [
    "plt.figure(1)\n",
    "plt.plot(Mz)\n",
    "plt.grid()\n",
    "plt.xlabel('Time [seconds]');\n",
    "plt.ylabel('Longatudinal Magnetization [Tesla]');\n",
    "plt.title('Experiment 1 results');\n",
    "plt.show()\n",
    "plt.figure(2)\n",
    "plt.plot(Mxy)\n",
    "plt.grid()\n",
    "plt.xlabel('Time [seconds]');\n",
    "plt.ylabel('Transverse Magnetization Magnetization [Tesla]');\n",
    "plt.title('Experiment 2 results');\n",
    "plt.show()"
   ]
  },
  {
   "cell_type": "code",
   "execution_count": 0,
   "metadata": {
    "collapsed": false
   },
   "outputs": [
   ],
   "source": [
    "#2-a-Diffrent angular frequencies\n",
    "N = 5\n",
    "B_nonuniform = (np.random.randint(285, 315, size = 5)) / 100\n",
    "print(B_nonuniform)\n",
    "b = Bloch()\n",
    "b.show()\n",
    "zz = []\n",
    "g = 42\n",
    "wo = g * B_nonuniform\n",
    "delta_w = np.sort(wo)\n",
    "print(delta_w)\n",
    "\n",
    "# 2-b-Plotting trajectory\n",
    "%matplotlib notebook\n",
    "for th in np.linspace(0, pi , 30):\n",
    "    b.clear()\n",
    "    %matplotlib notebook\n",
    "    b.vector_color = ['r']\n",
    "    # RF pulse = 90 degree\n",
    "    if th <= pi / 2:\n",
    "        x = 1\n",
    "        y = np.sin( th )\n",
    "        z = np.cos( th )\n",
    "        r          = 1\n",
    "        b.clear()\n",
    "        zz = [0, sin( th ), cos( th )]\n",
    "        b.add_vectors(zz)\n",
    "        %matplotlib notebook\n",
    "        b.show()\n",
    "        b.save(dirc = 'temp')\n",
    "    # Recovery \n",
    "    if th > pi / 2:\n",
    "        for phi in np.linspace(-pi / 2, pi, 20):\n",
    "            delta = 0\n",
    "            if (phi <= 2 * pi * delta_w[delta]):\n",
    "                z0 = [r * sin(( th - pi )) * cos(( 2 * pi * delta_w[0] * 0.05 ) - phi ), r * sin(( th - pi )) * sin(( 2 * pi * delta_w[0] * 0.05 ) - phi ), r * cos(( th - pi ))]\n",
    "                z1 = [r * sin(( th - pi )) * cos(( 2 * pi * delta_w[1] * 0.05 ) - phi ), r * sin(( th - pi )) * sin(( 2 * pi * delta_w[1] * 0.05 ) - phi ), r * cos(( th - pi ))]\n",
    "                z2 = [r * sin(( th - pi )) * cos(( 2 * pi * delta_w[2] * 0.05 ) - phi ), r * sin(( th - pi )) * sin(( 2 * pi * delta_w[2] * 0.05 ) - phi ), r * cos(( th - pi ))]\n",
    "                z3 = [r * sin(( th - pi )) * cos(( 2 * pi * delta_w[3] * 0.05 ) - phi ), r * sin(( th - pi )) * sin(( 2 * pi * delta_w[3] * 0.05 ) - phi ), r * cos(( th - pi ))]\n",
    "                z4 = [r * sin(( th - pi )) * cos(( 2 * pi * delta_w[4] * 0.05 ) - phi ), r * sin(( th - pi )) * sin(( 2 * pi * delta_w[4] * 0.05 ) - phi ), r * cos(( th - pi ))]\n",
    "\n",
    "                b.add_vectors(z0)\n",
    "                b.add_vectors(z1)\n",
    "                b.add_vectors(z2)\n",
    "                b.add_vectors(z3)\n",
    "                b.add_vectors(z4)\n",
    "\n",
    "                b.show()\n",
    "                b.save(dirc = 'temp')\n",
    "                b.clear()\n",
    "                delta += 1\n",
    "                %matplotlib notebook"
   ]
  }
 ],
 "metadata": {
  "kernelspec": {
   "display_name": "Python 3 (Anaconda 2019)",
   "env": {
    "AR": "/ext/anaconda-2019.03/bin/x86_64-conda_cos6-linux-gnu-ar",
    "AS": "/ext/anaconda-2019.03/bin/x86_64-conda_cos6-linux-gnu-as",
    "CC": "/ext/anaconda-2019.03/bin/x86_64-conda_cos6-linux-gnu-cc",
    "CONDA_EXE": "/ext/anaconda-2019.03/bin/conda",
    "CONDA_PREFIX": "/ext/anaconda-2019.03",
    "CONDA_PYTHON_EXE": "/ext/anaconda-2019.03/bin/python",
    "CPP": "/ext/anaconda-2019.03/bin/x86_64-conda_cos6-linux-gnu-cpp",
    "CXX": "/ext/anaconda-2019.03/bin/x86_64-conda_cos6-linux-gnu-c++",
    "CXXFILT": "/ext/anaconda-2019.03/bin/x86_64-conda_cos6-linux-gnu-c++filt",
    "ELFEDIT": "/ext/anaconda-2019.03/bin/x86_64-conda_cos6-linux-gnu-elfedit",
    "F77": "/ext/anaconda-2019.03/bin/x86_64-conda_cos6-linux-gnu-gfortran",
    "F90": "/ext/anaconda-2019.03/bin/x86_64-conda_cos6-linux-gnu-gfortran",
    "F95": "/ext/anaconda-2019.03/bin/x86_64-conda_cos6-linux-gnu-f95",
    "FC": "/ext/anaconda-2019.03/bin/x86_64-conda_cos6-linux-gnu-gfortran",
    "GCC": "/ext/anaconda-2019.03/bin/x86_64-conda_cos6-linux-gnu-gcc",
    "GCC_AR": "/ext/anaconda-2019.03/bin/x86_64-conda_cos6-linux-gnu-gcc-ar",
    "GCC_NM": "/ext/anaconda-2019.03/bin/x86_64-conda_cos6-linux-gnu-gcc-nm",
    "GCC_RANLIB": "/ext/anaconda-2019.03/bin/x86_64-conda_cos6-linux-gnu-gcc-ranlib",
    "GDAL_DATA": "/ext/anaconda-2019.03/share/gdal",
    "GFORTRAN": "/ext/anaconda-2019.03/bin/x86_64-conda_cos6-linux-gnu-gfortran",
    "GPROF": "/ext/anaconda-2019.03/bin/x86_64-conda_cos6-linux-gnu-gprof",
    "GXX": "/ext/anaconda-2019.03/bin/x86_64-conda_cos6-linux-gnu-g++",
    "JAVA_HOME": "/ext/anaconda-2019.03",
    "JAVA_LD_LIBRARY_PATH": "/ext/anaconda-2019.03/lib/server",
    "LD": "/ext/anaconda-2019.03/bin/x86_64-conda_cos6-linux-gnu-ld",
    "LD_GOLD": "/ext/anaconda-2019.03/bin/x86_64-conda_cos6-linux-gnu-ld.gold",
    "LD_LIBRARY_PATH": "/ext/anaconda-2019.03/lib",
    "NM": "/ext/anaconda-2019.03/bin/x86_64-conda_cos6-linux-gnu-nm",
    "OBJCOPY": "/ext/anaconda-2019.03/bin/x86_64-conda_cos6-linux-gnu-objcopy",
    "OBJDUMP": "/ext/anaconda-2019.03/bin/x86_64-conda_cos6-linux-gnu-objdump",
    "OCAMLFIND_CONF": "/ext/anaconda-2019.03/etc/findlib.conf",
    "OCAMLLIB": "/ext/anaconda-2019.03/lib/ocaml",
    "OCAML_PREFIX": "/ext/anaconda-2019.03",
    "PATH": "/ext/anaconda-2019.03/bin:/ext/anaconda-2019.03/condabin:/cocalc/bin:/cocalc/src/smc-project/bin:/home/user/bin:/home/user/.local/bin:/ext/bin:/usr/lib/xpra:/opt/ghc/bin:/usr/local/bin:/usr/bin:/bin:/ext/data/homer/bin:/ext/data/weblogo:/ext/intellij/idea/bin:/ext/pycharm/pycharm/bin:/usr/lib/postgresql/10/bin",
    "PROJ_LIB": "/ext/anaconda-2019.03/share/proj",
    "PYTHONHOME": "/ext/anaconda-2019.03/lib/python3.7",
    "PYTHONPATH": "/ext/anaconda-2019.03/lib/python3.7:/ext/anaconda-2019.03/lib/python3.7/site-packages",
    "RANLIB": "/ext/anaconda-2019.03/bin/x86_64-conda_cos6-linux-gnu-ranlib",
    "READELF": "/ext/anaconda-2019.03/bin/x86_64-conda_cos6-linux-gnu-readelf",
    "RSTUDIO_WHICH_R": "/ext/anaconda-2019.03/bin/R",
    "SIZE": "/ext/anaconda-2019.03/bin/x86_64-conda_cos6-linux-gnu-size",
    "STRINGS": "/ext/anaconda-2019.03/bin/x86_64-conda_cos6-linux-gnu-strings",
    "STRIP": "/ext/anaconda-2019.03/bin/x86_64-conda_cos6-linux-gnu-strip"
   },
   "language": "python",
   "metadata": {
    "cocalc": {
     "description": "Python/R distribution for data science",
     "priority": 5,
     "url": "https://www.anaconda.com/distribution/"
    }
   },
   "name": "anaconda2019"
  },
  "language_info": {
   "codemirror_mode": {
    "name": "ipython",
    "version": 3
   },
   "file_extension": ".py",
   "mimetype": "text/x-python",
   "name": "python",
   "nbconvert_exporter": "python",
   "pygments_lexer": "ipython3",
   "version": "3.7.6"
  }
 },
 "nbformat": 4,
 "nbformat_minor": 4
}
